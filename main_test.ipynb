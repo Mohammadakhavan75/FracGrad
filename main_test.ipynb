{
 "cells": [],
 "metadata": {
  "kernelspec": {
   "display_name": "Python 3.9.7 ('RL-TF')",
   "language": "python",
   "name": "python3"
  },
  "language_info": {
   "codemirror_mode": {
    "name": "ipython",
    "version": 3
   },
   "file_extension": ".py",
   "mimetype": "text/x-python",
   "name": "python",
   "nbconvert_exporter": "python",
   "pygments_lexer": "ipython3",
   "version": "3.9.7"
  },
  "orig_nbformat": 4,
  "vscode": {
   "interpreter": {
    "hash": "465ce5a4eeb72cb0b708cdaa77c95cc8713430e9de06ab2846e19b6fca11a75a"
   }
  }
 },
 "nbformat": 4,
 "nbformat_minor": 2
}
