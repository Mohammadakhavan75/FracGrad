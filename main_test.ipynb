{
 "cells": [
  {
   "cell_type": "code",
   "execution_count": 1,
   "metadata": {},
   "outputs": [],
   "source": [
    "from network import Net\n",
    "from optimizers import Optimizer\n",
    "from tensorflow.keras.datasets import mnist\n",
    "import numpy as np\n",
    "import tensorflow as tf\n",
    "from tensorflow.keras.models import Sequential\n",
    "from tensorflow.keras.layers import Dense\n",
    "import matplotlib.pyplot as plt\n",
    "from sklearn.decomposition import PCA\n",
    "\n",
    "def load_mnist():\n",
    "    (x_train, y_train), (x_test, y_test) = mnist.load_data()\n",
    "    x_train = np.reshape(x_train, [-1, 28*28])\n",
    "    x_test = np.reshape(x_test, [-1, 28*28])\n",
    "    y_train = tf.keras.utils.to_categorical(y_train, 10)\n",
    "    y_test = tf.keras.utils.to_categorical(y_test, 10)\n",
    "    x_train = x_train/np.max(x_train)\n",
    "    x_test = x_test/np.max(x_test)\n",
    "    return x_train, y_train, x_test, y_test\n",
    "\n",
    "def run_tf_model(x_train, y_train, x_test, y_test):\n",
    "    model = Sequential()\n",
    "    model.add(Dense(256, activation='relu', input_shape=(784,)))\n",
    "    model.add(Dense(10, activation='softmax'))\n",
    "    model.compile(loss='categorical_crossentropy', optimizer='sgd', metrics=['accuracy'])\n",
    "    print(\"\\nFitting Model...\")\n",
    "    model.fit(x_train, y_train, batch_size=32, epochs=5, validation_split=0.2)\n",
    "    print(\"\\nEvaluating Model...\")\n",
    "    model.evaluate(x_test, y_test)\n"
   ]
  },
  {
   "cell_type": "code",
   "execution_count": 2,
   "metadata": {},
   "outputs": [
    {
     "name": "stdout",
     "output_type": "stream",
     "text": [
      "Starting Distribute Fractional\n"
     ]
    }
   ],
   "source": [
    "opt = Optimizer()\n",
    "\n",
    "x_train, y_train, x_test, y_test= load_mnist()\n",
    "pca = PCA(10)\n",
    "x_train = pca.fit_transform(x_train)\n",
    "x_test = pca.transform(x_test)\n",
    "\n",
    "print(\"Starting Distribute Fractional\")\n",
    "epoch = 5\n",
    "model = Net(x_train, y_train, [10, 10], batch_size=64)"
   ]
  },
  {
   "cell_type": "code",
   "execution_count": 3,
   "metadata": {},
   "outputs": [
    {
     "data": {
      "text/plain": [
       "10000"
      ]
     },
     "execution_count": 3,
     "metadata": {},
     "output_type": "execute_result"
    }
   ],
   "source": [
    "x_test.shape[0]"
   ]
  },
  {
   "cell_type": "code",
   "execution_count": 4,
   "metadata": {},
   "outputs": [
    {
     "name": "stdout",
     "output_type": "stream",
     "text": [
      "0\n",
      "64\n",
      "128\n",
      "192\n",
      "256\n",
      "320\n",
      "384\n",
      "448\n",
      "512\n",
      "576\n",
      "640\n",
      "704\n",
      "768\n",
      "832\n",
      "896\n",
      "960\n",
      "1024\n",
      "1088\n",
      "1152\n",
      "1216\n",
      "1280\n",
      "1344\n",
      "1408\n",
      "1472\n",
      "1536\n",
      "1600\n",
      "1664\n",
      "1728\n",
      "1792\n",
      "1856\n",
      "1920\n",
      "1984\n",
      "2048\n",
      "2112\n",
      "2176\n",
      "2240\n",
      "2304\n",
      "2368\n",
      "2432\n",
      "2496\n",
      "2560\n",
      "2624\n",
      "2688\n",
      "2752\n",
      "2816\n",
      "2880\n",
      "2944\n",
      "3008\n",
      "3072\n",
      "3136\n",
      "3200\n",
      "3264\n",
      "3328\n",
      "3392\n",
      "3456\n",
      "3520\n",
      "3584\n",
      "3648\n",
      "3712\n",
      "3776\n",
      "3840\n",
      "3904\n",
      "3968\n",
      "4032\n",
      "4096\n",
      "4160\n",
      "4224\n",
      "4288\n",
      "4352\n",
      "4416\n",
      "4480\n",
      "4544\n",
      "4608\n",
      "4672\n",
      "4736\n",
      "4800\n",
      "4864\n",
      "4928\n",
      "4992\n",
      "5056\n",
      "5120\n",
      "5184\n",
      "5248\n",
      "5312\n",
      "5376\n",
      "5440\n",
      "5504\n",
      "5568\n",
      "5632\n",
      "5696\n",
      "5760\n",
      "5824\n",
      "5888\n",
      "5952\n",
      "6016\n",
      "6080\n",
      "6144\n",
      "6208\n",
      "6272\n",
      "6336\n",
      "6400\n",
      "6464\n",
      "6528\n",
      "6592\n",
      "6656\n",
      "6720\n",
      "6784\n",
      "6848\n",
      "6912\n",
      "6976\n",
      "7040\n",
      "7104\n",
      "7168\n",
      "7232\n",
      "7296\n",
      "7360\n",
      "7424\n",
      "7488\n",
      "7552\n",
      "7616\n",
      "7680\n",
      "7744\n",
      "7808\n",
      "7872\n",
      "7936\n",
      "8000\n",
      "8064\n",
      "8128\n",
      "8192\n",
      "8256\n",
      "8320\n",
      "8384\n",
      "8448\n",
      "8512\n",
      "8576\n",
      "8640\n",
      "8704\n",
      "8768\n",
      "8832\n",
      "8896\n",
      "8960\n",
      "9024\n",
      "9088\n",
      "9152\n",
      "9216\n",
      "9280\n",
      "9344\n",
      "9408\n",
      "9472\n",
      "9536\n",
      "9600\n",
      "9664\n",
      "9728\n",
      "9792\n",
      "9856\n",
      "9920\n"
     ]
    },
    {
     "data": {
      "text/plain": [
       "2.266426349547296"
      ]
     },
     "execution_count": 4,
     "metadata": {},
     "output_type": "execute_result"
    }
   ],
   "source": [
    "model.eval(model.w_flatten, x_test, y_test)"
   ]
  },
  {
   "cell_type": "code",
   "execution_count": 12,
   "metadata": {},
   "outputs": [
    {
     "name": "stdout",
     "output_type": "stream",
     "text": [
      "Starting Distribute Fractional\n",
      "EPOCH:  0\n",
      "Distribute, EPOCH: 0, Batch step: 0\n",
      "Distribute, EPOCH: 0, Batch step: 1\n",
      "Distribute, EPOCH: 0, Batch step: 2\n"
     ]
    },
    {
     "ename": "KeyboardInterrupt",
     "evalue": "",
     "output_type": "error",
     "traceback": [
      "\u001b[1;31m---------------------------------------------------------------------------\u001b[0m",
      "\u001b[1;31mKeyboardInterrupt\u001b[0m                         Traceback (most recent call last)",
      "\u001b[1;32mc:\\Users\\Mohammad\\Documents\\Projects\\Fractional\\main_test.ipynb Cell 4\u001b[0m in \u001b[0;36m<cell line: 11>\u001b[1;34m()\u001b[0m\n\u001b[0;32m     <a href='vscode-notebook-cell:/c%3A/Users/Mohammad/Documents/Projects/Fractional/main_test.ipynb#W6sZmlsZQ%3D%3D?line=12'>13</a>\u001b[0m \u001b[39mfor\u001b[39;00m b \u001b[39min\u001b[39;00m \u001b[39mrange\u001b[39m(\u001b[39mint\u001b[39m(x_test\u001b[39m.\u001b[39mshape[\u001b[39m0\u001b[39m]\u001b[39m/\u001b[39mmodel\u001b[39m.\u001b[39mbatch_size)):\n\u001b[0;32m     <a href='vscode-notebook-cell:/c%3A/Users/Mohammad/Documents/Projects/Fractional/main_test.ipynb#W6sZmlsZQ%3D%3D?line=13'>14</a>\u001b[0m     \u001b[39mprint\u001b[39m(\u001b[39mf\u001b[39m\u001b[39m\"\u001b[39m\u001b[39mDistribute, EPOCH: \u001b[39m\u001b[39m{\u001b[39;00mep\u001b[39m}\u001b[39;00m\u001b[39m, Batch step: \u001b[39m\u001b[39m{\u001b[39;00mb\u001b[39m}\u001b[39;00m\u001b[39m\"\u001b[39m)\n\u001b[1;32m---> <a href='vscode-notebook-cell:/c%3A/Users/Mohammad/Documents/Projects/Fractional/main_test.ipynb#W6sZmlsZQ%3D%3D?line=14'>15</a>\u001b[0m     opt\u001b[39m.\u001b[39;49mdist_frac_optimizer(model\u001b[39m.\u001b[39;49mcategorical_cross_entropy, model\u001b[39m.\u001b[39;49mw_flatten,  lr\u001b[39m=\u001b[39;49m\u001b[39m0.03\u001b[39;49m, alpha1\u001b[39m=\u001b[39;49m\u001b[39m0.9\u001b[39;49m, alpha2\u001b[39m=\u001b[39;49m\u001b[39m1.1\u001b[39;49m, max_iter\u001b[39m=\u001b[39;49m\u001b[39m10\u001b[39;49m, N\u001b[39m=\u001b[39;49m\u001b[39m10\u001b[39;49m)\n\u001b[0;32m     <a href='vscode-notebook-cell:/c%3A/Users/Mohammad/Documents/Projects/Fractional/main_test.ipynb#W6sZmlsZQ%3D%3D?line=15'>16</a>\u001b[0m     hist_dist\u001b[39m.\u001b[39mappend(model\u001b[39m.\u001b[39mcategorical_cross_entropy(model\u001b[39m.\u001b[39mw_flatten))\n\u001b[0;32m     <a href='vscode-notebook-cell:/c%3A/Users/Mohammad/Documents/Projects/Fractional/main_test.ipynb#W6sZmlsZQ%3D%3D?line=17'>18</a>\u001b[0m     model\u001b[39m.\u001b[39mbatch_counter \u001b[39m+\u001b[39m\u001b[39m=\u001b[39m model\u001b[39m.\u001b[39mbatch_size\n",
      "File \u001b[1;32mc:\\Users\\Mohammad\\Documents\\Projects\\Fractional\\optimizers.py:114\u001b[0m, in \u001b[0;36mOptimizer.dist_frac_optimizer\u001b[1;34m(self, f, x0, lr, alpha1, alpha2, N, max_iter, return_history)\u001b[0m\n\u001b[0;32m    111\u001b[0m \u001b[39m# d = lambda alpha: (1/gamma(2-alpha)) * grad(f, history[indx]) * np.abs(history[indx+1] - history[indx]) ** (1-alpha)\u001b[39;00m\n\u001b[0;32m    112\u001b[0m d \u001b[39m=\u001b[39m \u001b[39mlambda\u001b[39;00m alpha: ((\u001b[39m2\u001b[39m\u001b[39m*\u001b[39m(alpha\u001b[39m-\u001b[39malpha1))\u001b[39m/\u001b[39m(gamma(\u001b[39m2\u001b[39m\u001b[39m-\u001b[39malpha)\u001b[39m*\u001b[39m(alpha2\u001b[39m-\u001b[39malpha1)\u001b[39m*\u001b[39m\u001b[39m*\u001b[39m\u001b[39m2\u001b[39m)) \u001b[39m*\u001b[39m \u001b[39mself\u001b[39m\u001b[39m.\u001b[39mgrad(f, history[indx]) \u001b[39m*\u001b[39m np\u001b[39m.\u001b[39mabs(history[indx\u001b[39m+\u001b[39m\u001b[39m1\u001b[39m] \u001b[39m-\u001b[39m history[indx]) \u001b[39m*\u001b[39m\u001b[39m*\u001b[39m (\u001b[39m1\u001b[39m\u001b[39m-\u001b[39malpha)\n\u001b[1;32m--> 114\u001b[0m delta \u001b[39m=\u001b[39m \u001b[39m0.5\u001b[39m\u001b[39m*\u001b[39md(alpha1)\n\u001b[0;32m    115\u001b[0m \u001b[39mfor\u001b[39;00m n \u001b[39min\u001b[39;00m \u001b[39mrange\u001b[39m(\u001b[39m1\u001b[39m, N):\n\u001b[0;32m    116\u001b[0m     delta \u001b[39m=\u001b[39m delta \u001b[39m+\u001b[39m d(alpha1 \u001b[39m+\u001b[39m n\u001b[39m*\u001b[39md_alpha)\n",
      "File \u001b[1;32mc:\\Users\\Mohammad\\Documents\\Projects\\Fractional\\optimizers.py:112\u001b[0m, in \u001b[0;36mOptimizer.dist_frac_optimizer.<locals>.<lambda>\u001b[1;34m(alpha)\u001b[0m\n\u001b[0;32m    109\u001b[0m d_alpha \u001b[39m=\u001b[39m (alpha2\u001b[39m-\u001b[39malpha1)\u001b[39m/\u001b[39mN\n\u001b[0;32m    111\u001b[0m \u001b[39m# d = lambda alpha: (1/gamma(2-alpha)) * grad(f, history[indx]) * np.abs(history[indx+1] - history[indx]) ** (1-alpha)\u001b[39;00m\n\u001b[1;32m--> 112\u001b[0m d \u001b[39m=\u001b[39m \u001b[39mlambda\u001b[39;00m alpha: ((\u001b[39m2\u001b[39m\u001b[39m*\u001b[39m(alpha\u001b[39m-\u001b[39malpha1))\u001b[39m/\u001b[39m(gamma(\u001b[39m2\u001b[39m\u001b[39m-\u001b[39malpha)\u001b[39m*\u001b[39m(alpha2\u001b[39m-\u001b[39malpha1)\u001b[39m*\u001b[39m\u001b[39m*\u001b[39m\u001b[39m2\u001b[39m)) \u001b[39m*\u001b[39m \u001b[39mself\u001b[39;49m\u001b[39m.\u001b[39;49mgrad(f, history[indx]) \u001b[39m*\u001b[39m np\u001b[39m.\u001b[39mabs(history[indx\u001b[39m+\u001b[39m\u001b[39m1\u001b[39m] \u001b[39m-\u001b[39m history[indx]) \u001b[39m*\u001b[39m\u001b[39m*\u001b[39m (\u001b[39m1\u001b[39m\u001b[39m-\u001b[39malpha)\n\u001b[0;32m    114\u001b[0m delta \u001b[39m=\u001b[39m \u001b[39m0.5\u001b[39m\u001b[39m*\u001b[39md(alpha1)\n\u001b[0;32m    115\u001b[0m \u001b[39mfor\u001b[39;00m n \u001b[39min\u001b[39;00m \u001b[39mrange\u001b[39m(\u001b[39m1\u001b[39m, N):\n",
      "File \u001b[1;32mc:\\Users\\Mohammad\\Documents\\Projects\\Fractional\\optimizers.py:20\u001b[0m, in \u001b[0;36mOptimizer.grad\u001b[1;34m(self, f, x, epsilon)\u001b[0m\n\u001b[0;32m     18\u001b[0m     \u001b[39mif\u001b[39;00m i\u001b[39m>\u001b[39m\u001b[39m0\u001b[39m:\n\u001b[0;32m     19\u001b[0m         x_temp[i\u001b[39m-\u001b[39m\u001b[39m1\u001b[39m] \u001b[39m-\u001b[39m\u001b[39m=\u001b[39m epsilon\n\u001b[1;32m---> 20\u001b[0m     g[i] \u001b[39m=\u001b[39m ((f(x_temp) \u001b[39m-\u001b[39m f(x)) \u001b[39m/\u001b[39m epsilon) \n\u001b[0;32m     21\u001b[0m \u001b[39mreturn\u001b[39;00m g\n",
      "File \u001b[1;32mc:\\Users\\Mohammad\\Documents\\Projects\\Fractional\\network.py:62\u001b[0m, in \u001b[0;36mNet.categorical_cross_entropy\u001b[1;34m(self, w)\u001b[0m\n\u001b[0;32m     60\u001b[0m predict \u001b[39m=\u001b[39m \u001b[39mself\u001b[39m\u001b[39m.\u001b[39msoftmax(\u001b[39mself\u001b[39m\u001b[39m.\u001b[39mforward(w))\n\u001b[0;32m     61\u001b[0m \u001b[39m# predict = self.softmax(self.forward_less())\u001b[39;00m\n\u001b[1;32m---> 62\u001b[0m loss \u001b[39m=\u001b[39m \u001b[39m-\u001b[39m(\u001b[39m1\u001b[39m\u001b[39m/\u001b[39m\u001b[39mself\u001b[39m\u001b[39m.\u001b[39mbatch_size) \u001b[39m*\u001b[39m np\u001b[39m.\u001b[39;49msum([target \u001b[39m*\u001b[39;49m np\u001b[39m.\u001b[39;49mlog([predict[i][np\u001b[39m.\u001b[39;49margmax(target)]\u001b[39mif\u001b[39;49;00m predict[i][np\u001b[39m.\u001b[39;49margmax(target)] \u001b[39m!=\u001b[39;49m \u001b[39m0\u001b[39;49m \u001b[39melse\u001b[39;49;00m \u001b[39m0.1\u001b[39;49m \u001b[39m*\u001b[39;49m\u001b[39m*\u001b[39;49m \u001b[39m14\u001b[39;49m]) \u001b[39mfor\u001b[39;49;00m i, target \u001b[39min\u001b[39;49;00m \u001b[39menumerate\u001b[39;49m(\u001b[39mself\u001b[39;49m\u001b[39m.\u001b[39;49my[\u001b[39mself\u001b[39;49m\u001b[39m.\u001b[39;49mbatch_counter: \u001b[39mself\u001b[39;49m\u001b[39m.\u001b[39;49mbatch_counter \u001b[39m+\u001b[39;49m \u001b[39mself\u001b[39;49m\u001b[39m.\u001b[39;49mbatch_size])])\n\u001b[0;32m     63\u001b[0m \u001b[39m# self.batch_counter += self.batch_size\u001b[39;00m\n\u001b[0;32m     64\u001b[0m \u001b[39m# print(\"batch_couter: \", self.batch_counter)\u001b[39;00m\n\u001b[0;32m     65\u001b[0m \u001b[39mreturn\u001b[39;00m  loss\n",
      "File \u001b[1;32m<__array_function__ internals>:5\u001b[0m, in \u001b[0;36msum\u001b[1;34m(*args, **kwargs)\u001b[0m\n",
      "File \u001b[1;32mc:\\Users\\Mohammad\\.conda\\envs\\RL-TF\\lib\\site-packages\\numpy\\core\\fromnumeric.py:2259\u001b[0m, in \u001b[0;36msum\u001b[1;34m(a, axis, dtype, out, keepdims, initial, where)\u001b[0m\n\u001b[0;32m   2256\u001b[0m         \u001b[39mreturn\u001b[39;00m out\n\u001b[0;32m   2257\u001b[0m     \u001b[39mreturn\u001b[39;00m res\n\u001b[1;32m-> 2259\u001b[0m \u001b[39mreturn\u001b[39;00m _wrapreduction(a, np\u001b[39m.\u001b[39;49madd, \u001b[39m'\u001b[39;49m\u001b[39msum\u001b[39;49m\u001b[39m'\u001b[39;49m, axis, dtype, out, keepdims\u001b[39m=\u001b[39;49mkeepdims,\n\u001b[0;32m   2260\u001b[0m                       initial\u001b[39m=\u001b[39;49minitial, where\u001b[39m=\u001b[39;49mwhere)\n",
      "File \u001b[1;32mc:\\Users\\Mohammad\\.conda\\envs\\RL-TF\\lib\\site-packages\\numpy\\core\\fromnumeric.py:86\u001b[0m, in \u001b[0;36m_wrapreduction\u001b[1;34m(obj, ufunc, method, axis, dtype, out, **kwargs)\u001b[0m\n\u001b[0;32m     83\u001b[0m         \u001b[39melse\u001b[39;00m:\n\u001b[0;32m     84\u001b[0m             \u001b[39mreturn\u001b[39;00m reduction(axis\u001b[39m=\u001b[39maxis, out\u001b[39m=\u001b[39mout, \u001b[39m*\u001b[39m\u001b[39m*\u001b[39mpasskwargs)\n\u001b[1;32m---> 86\u001b[0m \u001b[39mreturn\u001b[39;00m ufunc\u001b[39m.\u001b[39mreduce(obj, axis, dtype, out, \u001b[39m*\u001b[39m\u001b[39m*\u001b[39mpasskwargs)\n",
      "\u001b[1;31mKeyboardInterrupt\u001b[0m: "
     ]
    }
   ],
   "source": [
    "opt = Optimizer()\n",
    "\n",
    "x_train, y_train, x_test, y_test= load_mnist()\n",
    "pca = PCA(10)\n",
    "x_train = pca.fit_transform(x_train)\n",
    "\n",
    "print(\"Starting Distribute Fractional\")\n",
    "epoch = 5\n",
    "model = Net(x_train, y_train, [10, 10], batch_size=64)\n",
    "hist_dist = []\n",
    "for ep in range(epoch):\n",
    "    print(\"EPOCH: \", ep)\n",
    "    for b in range(int(x_test.shape[0]/model.batch_size)):\n",
    "        print(f\"Distribute, EPOCH: {ep}, Batch step: {b}\")\n",
    "        opt.dist_frac_optimizer(model.categorical_cross_entropy, model.w_flatten,  lr=0.03, alpha1=0.9, alpha2=1.1, max_iter=10, N=10)\n",
    "        hist_dist.append(model.categorical_cross_entropy(model.w_flatten))\n",
    "\n",
    "        model.batch_counter += model.batch_size"
   ]
  },
  {
   "cell_type": "code",
   "execution_count": 5,
   "metadata": {},
   "outputs": [],
   "source": [
    "model = Net(x_train, y_train, [10, 10], batch_size=64)\n",
    "opt = Optimizer()"
   ]
  },
  {
   "cell_type": "code",
   "execution_count": 6,
   "metadata": {},
   "outputs": [
    {
     "name": "stdout",
     "output_type": "stream",
     "text": [
      "EPOCH:  0\n",
      "Batch step:  0\n"
     ]
    },
    {
     "ename": "TypeError",
     "evalue": "categorical_cross_entropy() missing 1 required positional argument: 'w'",
     "output_type": "error",
     "traceback": [
      "\u001b[1;31m---------------------------------------------------------------------------\u001b[0m",
      "\u001b[1;31mTypeError\u001b[0m                                 Traceback (most recent call last)",
      "\u001b[1;32mc:\\Users\\Mohammad\\Documents\\Projects\\Fractional\\main_test.ipynb Cell 6\u001b[0m in \u001b[0;36m<cell line: 4>\u001b[1;34m()\u001b[0m\n\u001b[0;32m      <a href='vscode-notebook-cell:/c%3A/Users/Mohammad/Documents/Projects/Fractional/main_test.ipynb#X14sZmlsZQ%3D%3D?line=6'>7</a>\u001b[0m \u001b[39mprint\u001b[39m(\u001b[39m\"\u001b[39m\u001b[39mBatch step: \u001b[39m\u001b[39m\"\u001b[39m, b)\n\u001b[0;32m      <a href='vscode-notebook-cell:/c%3A/Users/Mohammad/Documents/Projects/Fractional/main_test.ipynb#X14sZmlsZQ%3D%3D?line=7'>8</a>\u001b[0m opt\u001b[39m.\u001b[39moptimizer(model\u001b[39m.\u001b[39mcategorical_cross_entropy, model\u001b[39m.\u001b[39mw_flatten, lr\u001b[39m=\u001b[39m\u001b[39m0.03\u001b[39m)\n\u001b[1;32m----> <a href='vscode-notebook-cell:/c%3A/Users/Mohammad/Documents/Projects/Fractional/main_test.ipynb#X14sZmlsZQ%3D%3D?line=8'>9</a>\u001b[0m hist_int\u001b[39m.\u001b[39mappend(model\u001b[39m.\u001b[39;49mcategorical_cross_entropy())\n\u001b[0;32m     <a href='vscode-notebook-cell:/c%3A/Users/Mohammad/Documents/Projects/Fractional/main_test.ipynb#X14sZmlsZQ%3D%3D?line=10'>11</a>\u001b[0m model\u001b[39m.\u001b[39mbatch_counter \u001b[39m+\u001b[39m\u001b[39m=\u001b[39m model\u001b[39m.\u001b[39mbatch_size\n",
      "\u001b[1;31mTypeError\u001b[0m: categorical_cross_entropy() missing 1 required positional argument: 'w'"
     ]
    }
   ],
   "source": [
    "epoch = 5\n",
    "model = Net(x_train, y_train, [10, 10], batch_size=8)\n",
    "hist_int = []\n",
    "for ep in range(epoch):\n",
    "    print(\"EPOCH: \", ep)\n",
    "    for b in range(int(x_test.shape[0]/model.batch_size)):\n",
    "        print(\"Batch step: \", b)\n",
    "        opt.optimizer(model.categorical_cross_entropy, model.w_flatten, lr=0.03, max_iter=10)\n",
    "        hist_int.append(model.categorical_cross_entropy(model.w_flatten))\n",
    "\n",
    "        model.batch_counter += model.batch_size"
   ]
  },
  {
   "cell_type": "code",
   "execution_count": null,
   "metadata": {},
   "outputs": [],
   "source": [
    "epoch = 5\n",
    "model = Net(x_train, y_train, [10, 10], batch_size=64)\n",
    "hist_frac = []\n",
    "for ep in range(epoch):\n",
    "    print(\"EPOCH: \", ep)\n",
    "    for b in range(int(x_test.shape[0]/model.batch_size)):\n",
    "        print(\"Batch step: \", b)\n",
    "        opt.frac_optimizer(model.categorical_cross_entropy, model.w_flatten,  lr=0.03, alpha=0.9, , max_iter=10)\n",
    "        hist_frac.append(model.categorical_cross_entropy())\n",
    "\n",
    "        model.batch_counter += model.batch_size"
   ]
  },
  {
   "cell_type": "code",
   "execution_count": null,
   "metadata": {},
   "outputs": [],
   "source": [
    "epoch = 5\n",
    "model = Net(x_train, y_train, [10, 10], batch_size=64)\n",
    "hist_multi = []\n",
    "for ep in range(epoch):\n",
    "    print(\"EPOCH: \", ep)\n",
    "    for b in range(int(x_test.shape[0]/model.batch_size)):\n",
    "        print(\"Batch step: \", b)\n",
    "        opt.multi_frac_optimizer(model.categorical_cross_entropy, model.w_flatten,  lr=0.03, alpha1=1.1, alpha2=0.9, return_history=True)\n",
    "        hist_multi.append(model.categorical_cross_entropy())\n",
    "        \n",
    "        model.batch_counter += model.batch_size"
   ]
  },
  {
   "cell_type": "code",
   "execution_count": null,
   "metadata": {},
   "outputs": [],
   "source": [
    "epoch = 5\n",
    "model = Net(x_train, y_train, [10, 10], batch_size=64)\n",
    "hist_dist = []\n",
    "for ep in range(epoch):\n",
    "    print(\"EPOCH: \", ep)\n",
    "    for b in range(int(x_test.shape[0]/model.batch_size)):\n",
    "        print(\"Batch step: \", b)\n",
    "        x, history_dist_frac = opt.dist_frac_optimizer(model.categorical_cross_entropy, model.w_flatten,  lr=0.03, alpha1=0.1, alpha2=1.1, return_history=True)\n",
    "        hist_dist.append(model.categorical_cross_entropy())\n",
    "\n",
    "        model.batch_counter += model.batch_size"
   ]
  },
  {
   "cell_type": "code",
   "execution_count": 17,
   "metadata": {},
   "outputs": [
    {
     "name": "stdout",
     "output_type": "stream",
     "text": [
      "CPU times: total: 312 ms\n",
      "Wall time: 322 ms\n"
     ]
    },
    {
     "data": {
      "text/plain": [
       "array([-0.02333728,  0.14225839, -0.04789694, -0.0322301 ,  0.05181059,\n",
       "        0.03096294,  0.02266131,  0.12780108,  0.10626587,  0.09338487,\n",
       "        0.06126034, -0.01642846, -0.05577342,  0.05568581,  0.1072452 ,\n",
       "        0.10708783,  0.0338406 , -0.19853292,  0.09752564,  0.05151447,\n",
       "        0.03661423, -0.08228161,  0.08787268,  0.04075819, -0.01195115,\n",
       "        0.07168787, -0.02799571,  0.11263465,  0.01563215,  0.1108363 ,\n",
       "       -0.07311283, -0.04667382, -0.00859593,  0.09208404, -0.10171706,\n",
       "        0.05033377, -0.06934804, -0.02355108,  0.11061242, -0.05596373,\n",
       "       -0.19924411, -0.05536904,  0.04049719, -0.11546708, -0.0569809 ,\n",
       "       -0.00683506,  0.00085073, -0.117137  , -0.18462774,  0.13386428,\n",
       "       -0.05943423, -0.19146689,  0.11058676, -0.29283497,  0.07732571,\n",
       "       -0.10613036, -0.06131293, -0.04945274,  0.05641555,  0.16467062,\n",
       "        0.08808146, -0.01398465, -0.05645471,  0.06275319, -0.01111421,\n",
       "       -0.00350839,  0.11640827,  0.01401406,  0.07886435,  0.00508788,\n",
       "        0.0395237 , -0.01571742, -0.07616842,  0.03915808, -0.03045975,\n",
       "        0.03115576, -0.14405666,  0.10892882,  0.00914837,  0.03336005,\n",
       "        0.07062614, -0.05627454,  0.04718433,  0.31526733, -0.0928465 ,\n",
       "       -0.13747943, -0.15387449, -0.05985783, -0.13498897, -0.26766372,\n",
       "        0.00349464, -0.02299023, -0.08968521,  0.09762082, -0.27972081,\n",
       "        0.18082672, -0.0547279 ,  0.09764762, -0.10604405, -0.05755098,\n",
       "       -0.0769498 , -0.15322971, -0.20497462, -0.31161575, -0.06827552,\n",
       "       -0.04872047,  0.09791259, -0.01304959, -0.14458731,  0.09618512,\n",
       "        0.052628  , -0.05704546, -0.02471568,  0.04220986,  0.01429582,\n",
       "        0.0214319 ,  0.03810444,  0.16968646,  0.03869538, -0.05436293,\n",
       "       -0.16640618,  0.22272727,  0.08856376,  0.02078743, -0.04377054,\n",
       "       -0.00693791,  0.01179907,  0.02987959,  0.00675768,  0.16431886,\n",
       "        0.11132041,  0.02575971,  0.01304805, -0.16213558, -0.08744781,\n",
       "       -0.1174418 ,  0.2356857 ,  0.16803655,  0.12845161,  0.09554329,\n",
       "        0.02138848,  0.02662194,  0.14677766,  0.12269867, -0.09471462,\n",
       "        0.01873359, -0.0734998 ,  0.04795578,  0.02300649, -0.15066609,\n",
       "        0.00583928,  0.14195298, -0.05953477,  0.00684644, -0.07174147,\n",
       "        0.04403228, -0.09831048,  0.19750633, -0.04460735, -0.09353338,\n",
       "       -0.04319603, -0.15839361,  0.0503775 , -0.04229347, -0.01624097,\n",
       "        0.13599192,  0.10544509,  0.01435344, -0.03097287,  0.10356648,\n",
       "        0.11619451,  0.13308616, -0.0085639 ,  0.07074108, -0.02123794,\n",
       "       -0.10378671,  0.04128316, -0.00141413, -0.09204389,  0.01419163,\n",
       "       -0.02638734, -0.14922667, -0.05764259, -0.08024063,  0.21223385,\n",
       "        0.01960065,  0.07797724, -0.07418364, -0.06622724, -0.02464378,\n",
       "        0.04877097, -0.0646886 ,  0.04389906,  0.1955944 ,  0.04364297,\n",
       "       -0.00573   ,  0.04780939, -0.19924243,  0.07568767,  0.15001737])"
      ]
     },
     "execution_count": 17,
     "metadata": {},
     "output_type": "execute_result"
    }
   ],
   "source": [
    "%time opt.optimizer(model.categorical_cross_entropy, model.w_flatten, lr=0.03, max_iter=10)"
   ]
  },
  {
   "cell_type": "code",
   "execution_count": 18,
   "metadata": {},
   "outputs": [
    {
     "name": "stdout",
     "output_type": "stream",
     "text": [
      "CPU times: total: 328 ms\n",
      "Wall time: 343 ms\n"
     ]
    },
    {
     "data": {
      "text/plain": [
       "array([-0.02147662,  0.13776543, -0.04026609, -0.03118188,  0.04837025,\n",
       "        0.03425193,  0.01886791,  0.12912531,  0.10260507,  0.08890155,\n",
       "        0.05710685, -0.01550622, -0.05626617,  0.05367513,  0.11064896,\n",
       "        0.11150684,  0.03005962, -0.19556602,  0.09349893,  0.04838228,\n",
       "        0.0379145 , -0.08186026,  0.08960573,  0.03872789, -0.01434859,\n",
       "        0.07228507, -0.02786948,  0.11117889,  0.01740664,  0.11112681,\n",
       "       -0.07539317, -0.04563318, -0.01075019,  0.0890507 , -0.09918355,\n",
       "        0.05113172, -0.06743553, -0.02286299,  0.10753079, -0.0524003 ,\n",
       "       -0.19595149, -0.05506979,  0.03666558, -0.11259128, -0.05954059,\n",
       "       -0.00610493, -0.0009785 , -0.11555228, -0.18213994,  0.13126947,\n",
       "       -0.05700191, -0.19086002,  0.10836925, -0.29221048,  0.07569965,\n",
       "       -0.10615903, -0.0600447 , -0.05059827,  0.05803064,  0.16377056,\n",
       "        0.08615781, -0.01425839, -0.05772636,  0.05959656, -0.01265029,\n",
       "       -0.00526317,  0.11421363,  0.01510783,  0.0822431 ,  0.0071824 ,\n",
       "        0.04199142, -0.01708026, -0.07358717,  0.04236878, -0.03207438,\n",
       "        0.03173591, -0.14448949,  0.11052135,  0.0064841 ,  0.03338379,\n",
       "        0.06770211, -0.05543031,  0.0456207 ,  0.31137867, -0.09077725,\n",
       "       -0.1369183 , -0.1533819 , -0.06087942, -0.134318  , -0.2664721 ,\n",
       "        0.00476559, -0.02157216, -0.09189025,  0.09835449, -0.28080685,\n",
       "        0.17903445, -0.05330756,  0.096114  , -0.10335752, -0.05671826,\n",
       "       -0.08065145, -0.15286395, -0.20361851, -0.30768251, -0.06753774,\n",
       "       -0.04997854,  0.0984319 , -0.01251415, -0.14476222,  0.09484241,\n",
       "        0.04841825, -0.05214735, -0.02239801,  0.04042608,  0.01370705,\n",
       "        0.01864306,  0.038293  ,  0.16989683,  0.03821988, -0.05251645,\n",
       "       -0.16549638,  0.22010678,  0.08732655,  0.02031626, -0.04272038,\n",
       "       -0.00467333,  0.01189855,  0.02981002,  0.00721539,  0.16402081,\n",
       "        0.10818726,  0.02349765,  0.01415533, -0.15564622, -0.08884565,\n",
       "       -0.11647566,  0.2352825 ,  0.16779293,  0.127297  ,  0.09290044,\n",
       "        0.01972081,  0.03194567,  0.14685936,  0.12024515, -0.09628193,\n",
       "        0.01916892, -0.07386143,  0.04750931,  0.02276892, -0.15200474,\n",
       "        0.00472429,  0.14351711, -0.0610517 ,  0.00784506, -0.07272347,\n",
       "        0.04286992, -0.09749573,  0.19839743, -0.04405509, -0.09393183,\n",
       "       -0.04439459, -0.15593845,  0.05125173, -0.04346232, -0.01314575,\n",
       "        0.1334166 ,  0.10533368,  0.01430238, -0.03142389,  0.10213283,\n",
       "        0.11046967,  0.13425581, -0.00825085,  0.0693314 , -0.01879654,\n",
       "       -0.10691251,  0.04244822, -0.00042101, -0.09141607,  0.01933775,\n",
       "       -0.03007414, -0.1443329 , -0.05875132, -0.07748162,  0.2087401 ,\n",
       "        0.01998334,  0.07757918, -0.07461458, -0.06703778, -0.02348542,\n",
       "        0.04943469, -0.05911428,  0.04042145,  0.19033575,  0.04531073,\n",
       "       -0.00687408,  0.04824227, -0.19899086,  0.0765552 ,  0.15178518])"
      ]
     },
     "execution_count": 18,
     "metadata": {},
     "output_type": "execute_result"
    }
   ],
   "source": [
    "%time opt.frac_optimizer(model.categorical_cross_entropy, model.w_flatten, lr=0.03, max_iter=10, alpha=0.95)"
   ]
  },
  {
   "cell_type": "code",
   "execution_count": 19,
   "metadata": {},
   "outputs": [
    {
     "name": "stdout",
     "output_type": "stream",
     "text": [
      "CPU times: total: 672 ms\n",
      "Wall time: 673 ms\n"
     ]
    },
    {
     "data": {
      "text/plain": [
       "array([-0.02691121,  0.14725103, -0.06169464, -0.03338447,  0.05557795,\n",
       "        0.02483999,  0.02817968,  0.12342567,  0.11049467,  0.09858546,\n",
       "        0.06829589, -0.01795524, -0.05485006,  0.05863298,  0.10060001,\n",
       "        0.09939321,  0.04011396, -0.20190202,  0.10342511,  0.05621972,\n",
       "        0.03413744, -0.08313344,  0.08498688,  0.043609  , -0.00816984,\n",
       "        0.07054053, -0.02832583,  0.1142217 ,  0.01246205,  0.1101573 ,\n",
       "       -0.06909521, -0.04767218, -0.00513117,  0.09615786, -0.10557214,\n",
       "        0.04906969, -0.07164314, -0.02378531,  0.11532672, -0.0606858 ,\n",
       "       -0.20376275, -0.05546472,  0.04658236, -0.11890715, -0.05293693,\n",
       "       -0.00788953,  0.00355412, -0.11875388, -0.18787884,  0.13708327,\n",
       "       -0.06308343, -0.19213949,  0.11399865, -0.29360965,  0.08008124,\n",
       "       -0.10596645, -0.06327494, -0.04724663,  0.05408353,  0.16594181,\n",
       "        0.09093137, -0.01352002, -0.05442286,  0.06754926, -0.00846563,\n",
       "       -0.00069159,  0.11943291,  0.01189809,  0.07370664,  0.0018002 ,\n",
       "        0.03578837, -0.01383617, -0.08017024,  0.0345196 , -0.02813011,\n",
       "        0.03008078, -0.14323491,  0.10609528,  0.01307926,  0.03290335,\n",
       "        0.07514291, -0.05739429,  0.04966124,  0.32081561, -0.0960461 ,\n",
       "       -0.13836422, -0.15459597, -0.05781819, -0.13614296, -0.26907308,\n",
       "        0.00137341, -0.02496064, -0.0863369 ,  0.09634345, -0.27751565,\n",
       "        0.18379198, -0.05705355,  0.09992647, -0.109904  , -0.05865615,\n",
       "       -0.07071507, -0.15400909, -0.2070462 , -0.31673842, -0.06991906,\n",
       "       -0.04631863,  0.09698274, -0.01397782, -0.14437277,  0.09745424,\n",
       "        0.05887048, -0.06417647, -0.0284001 ,  0.04465908,  0.01532161,\n",
       "        0.02568124,  0.03777535,  0.16928615,  0.03947832, -0.05700707,\n",
       "       -0.16543961,  0.22380341,  0.09071059,  0.02243678, -0.04532686,\n",
       "       -0.00997515,  0.01150474,  0.02994055,  0.00602121,  0.16384125,\n",
       "        0.116065  ,  0.02906996,  0.01105184, -0.17235442, -0.08507217,\n",
       "       -0.11867578,  0.23638061,  0.16845475,  0.13019061,  0.09934889,\n",
       "        0.0235405 ,  0.01810879,  0.14643145,  0.12571368, -0.09133787,\n",
       "        0.01756894, -0.07278729,  0.04868485,  0.02348557, -0.14781326,\n",
       "        0.00800454,  0.13764019, -0.05679743,  0.00532686, -0.06956435,\n",
       "        0.04562419, -0.09955342,  0.1961012 , -0.04546907, -0.09247151,\n",
       "       -0.04154975, -0.16082963,  0.04867688, -0.04070591, -0.02105848,\n",
       "        0.13994677,  0.10559398,  0.01441853, -0.03027702,  0.10548086,\n",
       "        0.12606977,  0.13015115, -0.00895218,  0.07332795, -0.02487276,\n",
       "       -0.09868744,  0.03943628, -0.00295811, -0.09299002,  0.00553277,\n",
       "       -0.02058213, -0.15587278, -0.05593793, -0.08457283,  0.21643494,\n",
       "        0.01935587,  0.07864015, -0.07350775, -0.06494817, -0.02656238,\n",
       "        0.04736664, -0.07225188,  0.04923402,  0.2037127 ,  0.04100211,\n",
       "       -0.00393394,  0.0470616 , -0.19971742,  0.07433732,  0.14688424])"
      ]
     },
     "execution_count": 19,
     "metadata": {},
     "output_type": "execute_result"
    }
   ],
   "source": [
    "%time opt.multi_frac_optimizer(model.categorical_cross_entropy, model.w_flatten, lr=0.03, max_iter=10, alpha1=0.9, alpha2=1.1)"
   ]
  },
  {
   "cell_type": "code",
   "execution_count": 20,
   "metadata": {},
   "outputs": [
    {
     "name": "stdout",
     "output_type": "stream",
     "text": [
      "CPU times: total: 3.61 s\n",
      "Wall time: 3.63 s\n"
     ]
    },
    {
     "data": {
      "text/plain": [
       "array([-0.05037425,  0.38291342, -0.45154315, -0.06655738,  0.23835693,\n",
       "       -0.07624213,  0.19563619,  0.16537915,  0.30630399,  0.31191481,\n",
       "        0.21640397, -0.05555989, -0.03700483,  0.12301176,  0.01027797,\n",
       "       -0.07385754,  0.17794679, -0.36431701,  0.27864968,  0.19801932,\n",
       "        0.01236693, -0.09142234,  0.03395458,  0.13159884,  0.08236803,\n",
       "        0.06393332, -0.01641705,  0.19315974, -0.02688114,  0.12601803,\n",
       "       -0.04751909, -0.11295669,  0.07006825,  0.18982314, -0.18776753,\n",
       "        0.01870095, -0.18777985, -0.08628216,  0.23783317, -0.19066579,\n",
       "       -0.3308488 , -0.09898938,  0.19976541, -0.23607001,  0.02977464,\n",
       "       -0.03939519,  0.07901114, -0.21843533, -0.29577021,  0.2467224 ,\n",
       "       -0.14272266, -0.22784966,  0.18906491, -0.3058541 ,  0.12737471,\n",
       "       -0.12105304, -0.09931508, -0.04218427,  0.00979996,  0.20395627,\n",
       "        0.14727423, -0.00708635, -0.00596789,  0.16979906,  0.03978505,\n",
       "        0.06374561,  0.21794286,  0.01802765, -0.08832608, -0.05494808,\n",
       "       -0.05488435,  0.04518901, -0.17998059, -0.09257609,  0.02999513,\n",
       "        0.02241477, -0.14539189,  0.06407389,  0.12962303,  0.0468513 ,\n",
       "        0.17329657, -0.09216968,  0.10088754,  0.47278414, -0.15622711,\n",
       "       -0.1635694 , -0.17219039, -0.04495123, -0.15461133, -0.30453161,\n",
       "       -0.02915104, -0.09042016,  0.00082255,  0.0855493 , -0.27607396,\n",
       "        0.24296241, -0.09960712,  0.15985561, -0.2286451 , -0.10541275,\n",
       "        0.06162178, -0.15799035, -0.26443669, -0.4562713 , -0.07408072,\n",
       "       -0.03713559,  0.07791829, -0.03254622, -0.1381331 ,  0.18473642,\n",
       "        0.24740152, -0.27864425, -0.1116011 ,  0.10725242,  0.02613009,\n",
       "        0.14043988,  0.03411468,  0.16996437,  0.05570589, -0.14178889,\n",
       "       -0.31123098,  0.41188985,  0.12581253,  0.01003193, -0.08739948,\n",
       "       -0.10877911,  0.01920827,  0.03319711, -0.00530207,  0.23211567,\n",
       "        0.23404591,  0.11410247, -0.01848597, -0.41480741, -0.06254244,\n",
       "       -0.18718365,  0.23842945,  0.16768606,  0.16236575,  0.20715516,\n",
       "        0.10999404, -0.215791  ,  0.17239568,  0.21359705, -0.09001412,\n",
       "        0.04279598, -0.0628153 ,  0.0681923 ,  0.02945428, -0.14136676,\n",
       "        0.02606888,  0.17332578, -0.02940271, -0.03065823, -0.08185467,\n",
       "        0.10878718, -0.12707868,  0.16091239, -0.0658816 , -0.11468916,\n",
       "        0.01291168, -0.30217312,  0.04474653,  0.00439136, -0.15456288,\n",
       "        0.24296705,  0.11254911,  0.02178851, -0.01339844,  0.17548547,\n",
       "        0.38631063,  0.14904554, -0.02522741,  0.08637966, -0.12988986,\n",
       "        0.02515318,  0.00446252, -0.03775962, -0.11409367, -0.22014424,\n",
       "        0.12386305, -0.39508484, -0.018124  , -0.16354867,  0.41342596,\n",
       "       -0.03620855,  0.08300108, -0.05489765, -0.04329863, -0.07015099,\n",
       "        0.05591473, -0.34612518,  0.20533485,  0.38449153, -0.01059329,\n",
       "        0.03851661,  0.03718312, -0.19461229,  0.049411  ,  0.1174507 ])"
      ]
     },
     "execution_count": 20,
     "metadata": {},
     "output_type": "execute_result"
    }
   ],
   "source": [
    "%time opt.dist_frac_optimizer(model.categorical_cross_entropy, model.w_flatten, lr=0.03, max_iter=10, alpha1=0.9, alpha2=1.1, N=10)"
   ]
  },
  {
   "cell_type": "code",
   "execution_count": null,
   "metadata": {},
   "outputs": [],
   "source": []
  }
 ],
 "metadata": {
  "kernelspec": {
   "display_name": "Python 3.9.7 ('RL-TF')",
   "language": "python",
   "name": "python3"
  },
  "language_info": {
   "codemirror_mode": {
    "name": "ipython",
    "version": 3
   },
   "file_extension": ".py",
   "mimetype": "text/x-python",
   "name": "python",
   "nbconvert_exporter": "python",
   "pygments_lexer": "ipython3",
   "version": "3.9.7"
  },
  "orig_nbformat": 4,
  "vscode": {
   "interpreter": {
    "hash": "465ce5a4eeb72cb0b708cdaa77c95cc8713430e9de06ab2846e19b6fca11a75a"
   }
  }
 },
 "nbformat": 4,
 "nbformat_minor": 2
}
