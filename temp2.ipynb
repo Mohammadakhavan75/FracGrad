{
 "cells": [
  {
   "cell_type": "markdown",
   "metadata": {},
   "source": [
    "# Simple Autograd Function"
   ]
  },
  {
   "cell_type": "code",
   "execution_count": null,
   "metadata": {},
   "outputs": [],
   "source": [
    "import torch\n",
    "from torch.autograd import Function"
   ]
  },
  {
   "cell_type": "code",
   "execution_count": null,
   "metadata": {},
   "outputs": [],
   "source": [
    "class ModifiedGradient(Function):\n",
    "    @staticmethod\n",
    "    def forward(ctx, input):\n",
    "        ctx.save_for_backward(input)\n",
    "        return input * -10000\n",
    "\n",
    "    @staticmethod\n",
    "    def backward(ctx, grad_output):\n",
    "        input = ctx.saved_tensors[0]\n",
    "        # Add a constant to the gradient\n",
    "        # constant = 1.0\n",
    "        # modified_grad = grad_output + constant\n",
    "        return grad_output * 10000 * input\n"
   ]
  },
  {
   "cell_type": "code",
   "execution_count": null,
   "metadata": {},
   "outputs": [],
   "source": [
    "input = torch.tensor(2.0, requires_grad=True)\n",
    "output = ModifiedGradient.apply(input)\n",
    "output.backward()\n",
    "print(input.grad)  # Should print 2.0\n"
   ]
  },
  {
   "cell_type": "code",
   "execution_count": null,
   "metadata": {},
   "outputs": [],
   "source": [
    "output"
   ]
  },
  {
   "cell_type": "markdown",
   "metadata": {},
   "source": [
    "# Autograd Function with Network"
   ]
  },
  {
   "cell_type": "code",
   "execution_count": 9,
   "metadata": {},
   "outputs": [
    {
     "name": "stdout",
     "output_type": "stream",
     "text": [
      "Parameter containing:\n",
      "tensor([[0.5153]], requires_grad=True)\n",
      "Parameter containing:\n",
      "tensor([-0.4414], requires_grad=True)\n"
     ]
    }
   ],
   "source": [
    "import numpy as np\n",
    "import random\n",
    "import torch\n",
    "import torch.nn as nn\n",
    "from torch.optim import Adam\n",
    "from torch.autograd import Function\n",
    "from torch.optim.optimizer import Optimizer\n",
    "from operators import operators\n",
    "\n",
    "class grad_generator(Function):\n",
    "    @staticmethod\n",
    "    def forward(ctx, input):\n",
    "        ctx.save_for_backward(input)\n",
    "        return input \n",
    "\n",
    "    @staticmethod\n",
    "    def backward(ctx, grad_output):\n",
    "        # Add a constant to the gradient\n",
    "        # return grad_output * 1000\n",
    "        return grad_output\n",
    "\n",
    "\n",
    "class MyNetwork(nn.Module):\n",
    "    def __init__(self):\n",
    "        super(MyNetwork, self).__init__()\n",
    "        self.linear = nn.Linear(1, 1)\n",
    "\n",
    "    def forward(self, x):\n",
    "        x = self.linear(x)\n",
    "        return x\n",
    "\n",
    "\n",
    "class SGD(Optimizer):\n",
    "    def __init__(self, params, operator=None, lr=0.03):\n",
    "\n",
    "        defaults = dict(lr=lr, operator=operator, old_params={})\n",
    "        super(SGD, self).__init__(params, defaults)\n",
    "\n",
    "    def step(self, closure=None):\n",
    "        loss = None\n",
    "        if closure is not None:\n",
    "            with torch.enable_grad():\n",
    "                loss = closure()\n",
    "\n",
    "        for group in self.param_groups:\n",
    "            for l, p in enumerate(group['params']):\n",
    "                if p.grad is None:\n",
    "                    continue\n",
    "                \n",
    "                if group['operator'] is None:\n",
    "                    p.data.add_(p.grad, alpha=-group['lr'])\n",
    "                \n",
    "                else:\n",
    "                    if l not in group['old_params']:#FIRST_ITERATION\n",
    "                        group['old_params'][l] = p.data.clone().detach()\n",
    "                        group['old_params'][l].grad = p.grad.clone()\n",
    "                        grad_values = group['operator'](p, group['old_params'][l], group['lr'])\n",
    "                        p.data.add_(torch.tensor(grad_values), alpha=-group['lr'])\n",
    "                    else: #continue_of_the_iterations\n",
    "                        grad_values = group['operator'](p, group['old_params'][l], group['lr'])\n",
    "                        group['old_params'][l] = p.data.clone().detach()\n",
    "                        group['old_params'][l].grad = p.grad.clone()\n",
    "                        print(p.data)\n",
    "                        p.data.add_(torch.tensor(grad_values), alpha=-group['lr'])\n",
    "                        print(p.data)\n",
    "                    \n",
    "        return loss\n",
    "\n",
    "\n",
    "torch.manual_seed(1)\n",
    "np.random.seed(1)\n",
    "random.seed(1)\n",
    "model = MyNetwork()\n",
    "for param in model.parameters():\n",
    "    print(param)"
   ]
  },
  {
   "cell_type": "code",
   "execution_count": 10,
   "metadata": {},
   "outputs": [],
   "source": [
    "criterion = torch.nn.MSELoss()\n",
    "# optim = SGD(model.parameters(), operators(None).fractional_temp)\n",
    "optim = SGD(model.parameters(), None)\n",
    "# optim = Adam(model.parameters())\n",
    "input = torch.tensor([[1.]], requires_grad=True)\n",
    "target = torch.tensor([[1.]])\n",
    "optim.zero_grad()\n",
    "output = model(input)"
   ]
  },
  {
   "cell_type": "code",
   "execution_count": 11,
   "metadata": {},
   "outputs": [
    {
     "name": "stdout",
     "output_type": "stream",
     "text": [
      "O: tensor([0.0739], grad_fn=<AddBackward0>)\n",
      "rL/rW: tensor([-1.8522], grad_fn=<MulBackward0>)\n",
      "Loss: tensor([[0.8577]], grad_fn=<PowBackward0>)\n"
     ]
    }
   ],
   "source": [
    "w = 0.5153\n",
    "b = - 0.4414\n",
    "O = w * input[0] + b\n",
    "print(f\"O: {O}\")\n",
    "print(f\"rL/rW: {(2 * O - 2 * target[0]) * input[0]}\")\n",
    "print(f\"Loss: {(target[0] - output)**2}\")"
   ]
  },
  {
   "cell_type": "code",
   "execution_count": 12,
   "metadata": {},
   "outputs": [],
   "source": [
    "loss = criterion(output, target)"
   ]
  },
  {
   "cell_type": "code",
   "execution_count": 13,
   "metadata": {},
   "outputs": [],
   "source": [
    "loss = grad_generator.apply(loss)"
   ]
  },
  {
   "cell_type": "code",
   "execution_count": 14,
   "metadata": {},
   "outputs": [
    {
     "name": "stdout",
     "output_type": "stream",
     "text": [
      "Parameter containing:\n",
      "tensor([[0.5153]], requires_grad=True)\n",
      "Parameter containing:\n",
      "tensor([-0.4414], requires_grad=True)\n"
     ]
    }
   ],
   "source": [
    "for param in model.parameters():\n",
    "    print(param)"
   ]
  },
  {
   "cell_type": "code",
   "execution_count": 15,
   "metadata": {},
   "outputs": [
    {
     "data": {
      "text/plain": [
       "tensor(0.8577, grad_fn=<grad_generatorBackward>)"
      ]
     },
     "execution_count": 15,
     "metadata": {},
     "output_type": "execute_result"
    }
   ],
   "source": [
    "loss"
   ]
  },
  {
   "cell_type": "code",
   "execution_count": 16,
   "metadata": {},
   "outputs": [
    {
     "name": "stdout",
     "output_type": "stream",
     "text": [
      "tensor([[-1.8522]])\n",
      "tensor([-1.8522])\n"
     ]
    }
   ],
   "source": [
    "loss.backward()\n",
    "for param in model.parameters():\n",
    "    print(param.grad)"
   ]
  },
  {
   "cell_type": "code",
   "execution_count": 17,
   "metadata": {},
   "outputs": [
    {
     "name": "stdout",
     "output_type": "stream",
     "text": [
      "Parameter containing:\n",
      "tensor([[0.5708]], requires_grad=True)\n",
      "Parameter containing:\n",
      "tensor([-0.3858], requires_grad=True)\n"
     ]
    }
   ],
   "source": [
    "optim.step()\n",
    "for param in model.parameters():\n",
    "    print(param)"
   ]
  },
  {
   "cell_type": "code",
   "execution_count": 18,
   "metadata": {},
   "outputs": [
    {
     "data": {
      "text/plain": [
       "0.570866"
      ]
     },
     "execution_count": 18,
     "metadata": {},
     "output_type": "execute_result"
    }
   ],
   "source": [
    "w - (-1.8522) * 0.03"
   ]
  },
  {
   "cell_type": "code",
   "execution_count": 19,
   "metadata": {},
   "outputs": [
    {
     "data": {
      "text/plain": [
       "-0.385834"
      ]
     },
     "execution_count": 19,
     "metadata": {},
     "output_type": "execute_result"
    }
   ],
   "source": [
    "b - (-1.8522) * 0.03"
   ]
  },
  {
   "cell_type": "code",
   "execution_count": 20,
   "metadata": {},
   "outputs": [],
   "source": [
    "input = torch.tensor([[3.]], requires_grad=True)\n",
    "target = torch.tensor([[3.]])\n",
    "optim.zero_grad()\n",
    "output = model(input)\n"
   ]
  },
  {
   "cell_type": "code",
   "execution_count": 21,
   "metadata": {},
   "outputs": [
    {
     "name": "stdout",
     "output_type": "stream",
     "text": [
      "tensor([[-10.0399]])\n",
      "tensor([-3.3466])\n"
     ]
    }
   ],
   "source": [
    "loss = criterion(output, target)\n",
    "loss.backward()\n",
    "for param in model.parameters():\n",
    "    print(param.grad)"
   ]
  },
  {
   "cell_type": "code",
   "execution_count": 22,
   "metadata": {},
   "outputs": [
    {
     "name": "stdout",
     "output_type": "stream",
     "text": [
      "Parameter containing:\n",
      "tensor([[0.8720]], requires_grad=True)\n",
      "Parameter containing:\n",
      "tensor([-0.2854], requires_grad=True)\n"
     ]
    }
   ],
   "source": [
    "optim.step()\n",
    "for param in model.parameters():\n",
    "    print(param)"
   ]
  },
  {
   "cell_type": "code",
   "execution_count": null,
   "metadata": {},
   "outputs": [],
   "source": []
  },
  {
   "cell_type": "code",
   "execution_count": null,
   "metadata": {},
   "outputs": [],
   "source": []
  },
  {
   "cell_type": "code",
   "execution_count": null,
   "metadata": {},
   "outputs": [],
   "source": []
  },
  {
   "cell_type": "code",
   "execution_count": null,
   "metadata": {},
   "outputs": [],
   "source": []
  }
 ],
 "metadata": {
  "kernelspec": {
   "display_name": "torch",
   "language": "python",
   "name": "python3"
  },
  "language_info": {
   "codemirror_mode": {
    "name": "ipython",
    "version": 3
   },
   "file_extension": ".py",
   "mimetype": "text/x-python",
   "name": "python",
   "nbconvert_exporter": "python",
   "pygments_lexer": "ipython3",
   "version": "3.11.5"
  }
 },
 "nbformat": 4,
 "nbformat_minor": 2
}
